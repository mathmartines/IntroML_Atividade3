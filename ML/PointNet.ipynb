{
 "cells": [
  {
   "cell_type": "code",
   "outputs": [],
   "source": [
    "from src.PyTorch.HiggsDataset import HiggsDataset\n",
    "from torch.utils.data import DataLoader\n",
    "import keras\n",
    "from src.Keras.PointCloudLayer import PointNetLayer, ChannelWiseGlobalAveragePooling"
   ],
   "metadata": {
    "collapsed": false,
    "ExecuteTime": {
     "end_time": "2024-06-13T20:03:02.724335Z",
     "start_time": "2024-06-13T20:03:02.721141Z"
    }
   },
   "id": "2d41cca31ff068b1",
   "execution_count": 29
  },
  {
   "cell_type": "code",
   "outputs": [],
   "source": [
    "# Creating the trainning, validation and test set\n",
    "higges_trainning = HiggsDataset(\"../Data/HiggsTrainning.csv\", \"cpu\")\n",
    "higgs_validation = HiggsDataset(\"../Data/HiggsValidation.csv\", \"cpu\")\n",
    "higgs_test = HiggsDataset(\"../Data/HiggsTest.csv\", \"cpu\")\n",
    "\n",
    "# Exctracting the data from the torch tensors and converting to numpy arrays\n",
    "data_loader_trainning = DataLoader(higges_trainning, batch_size=len(higges_trainning))\n",
    "data_loader_validation = DataLoader(higgs_validation, batch_size=len(higgs_validation))\n",
    "data_loader_test = DataLoader(higgs_test, batch_size=len(higgs_test))\n",
    "\n",
    "torch_to_numpy = lambda torch_data: torch_data.numpy()\n",
    "X_train, y_train = map(torch_to_numpy, next(iter(data_loader_trainning)))\n",
    "X_val, y_val = map(torch_to_numpy, next(iter(data_loader_validation)))\n",
    "X_test, y_test = map(torch_to_numpy, next(iter(data_loader_test)))"
   ],
   "metadata": {
    "collapsed": false,
    "ExecuteTime": {
     "end_time": "2024-06-13T20:03:05.528354Z",
     "start_time": "2024-06-13T20:03:02.732812Z"
    }
   },
   "id": "efa982508327b211",
   "execution_count": 30
  },
  {
   "cell_type": "code",
   "outputs": [
    {
     "data": {
      "text/plain": "\u001B[1mModel: \"sequential_11\"\u001B[0m\n",
      "text/html": "<pre style=\"white-space:pre;overflow-x:auto;line-height:normal;font-family:Menlo,'DejaVu Sans Mono',consolas,'Courier New',monospace\"><span style=\"font-weight: bold\">Model: \"sequential_11\"</span>\n</pre>\n"
     },
     "metadata": {},
     "output_type": "display_data"
    },
    {
     "data": {
      "text/plain": "┏━━━━━━━━━━━━━━━━━━━━━━━━━━━━━━━━━┳━━━━━━━━━━━━━━━━━━━━━━━━┳━━━━━━━━━━━━━━━┓\n┃\u001B[1m \u001B[0m\u001B[1mLayer (type)                   \u001B[0m\u001B[1m \u001B[0m┃\u001B[1m \u001B[0m\u001B[1mOutput Shape          \u001B[0m\u001B[1m \u001B[0m┃\u001B[1m \u001B[0m\u001B[1m      Param #\u001B[0m\u001B[1m \u001B[0m┃\n┡━━━━━━━━━━━━━━━━━━━━━━━━━━━━━━━━━╇━━━━━━━━━━━━━━━━━━━━━━━━╇━━━━━━━━━━━━━━━┩\n│ point_net_layer_6               │ (\u001B[38;5;45mNone\u001B[0m, \u001B[38;5;34m6\u001B[0m, \u001B[38;5;34m32\u001B[0m)          │         \u001B[38;5;34m2,368\u001B[0m │\n│ (\u001B[38;5;33mPointNetLayer\u001B[0m)                 │                        │               │\n├─────────────────────────────────┼────────────────────────┼───────────────┤\n│ point_net_layer_7               │ (\u001B[38;5;45mNone\u001B[0m, \u001B[38;5;34m6\u001B[0m, \u001B[38;5;34m64\u001B[0m)          │        \u001B[38;5;34m10,432\u001B[0m │\n│ (\u001B[38;5;33mPointNetLayer\u001B[0m)                 │                        │               │\n├─────────────────────────────────┼────────────────────────┼───────────────┤\n│ channel_wise_global_average_po… │ (\u001B[38;5;45mNone\u001B[0m, \u001B[38;5;34m64\u001B[0m)             │             \u001B[38;5;34m0\u001B[0m │\n│ (\u001B[38;5;33mChannelWiseGlobalAveragePooli…\u001B[0m │                        │               │\n├─────────────────────────────────┼────────────────────────┼───────────────┤\n│ dense_30 (\u001B[38;5;33mDense\u001B[0m)                │ (\u001B[38;5;45mNone\u001B[0m, \u001B[38;5;34m64\u001B[0m)             │         \u001B[38;5;34m4,160\u001B[0m │\n├─────────────────────────────────┼────────────────────────┼───────────────┤\n│ dropout_3 (\u001B[38;5;33mDropout\u001B[0m)             │ (\u001B[38;5;45mNone\u001B[0m, \u001B[38;5;34m64\u001B[0m)             │             \u001B[38;5;34m0\u001B[0m │\n├─────────────────────────────────┼────────────────────────┼───────────────┤\n│ re_lu_3 (\u001B[38;5;33mReLU\u001B[0m)                  │ (\u001B[38;5;45mNone\u001B[0m, \u001B[38;5;34m64\u001B[0m)             │             \u001B[38;5;34m0\u001B[0m │\n├─────────────────────────────────┼────────────────────────┼───────────────┤\n│ dense_31 (\u001B[38;5;33mDense\u001B[0m)                │ (\u001B[38;5;45mNone\u001B[0m, \u001B[38;5;34m2\u001B[0m)              │           \u001B[38;5;34m130\u001B[0m │\n└─────────────────────────────────┴────────────────────────┴───────────────┘\n",
      "text/html": "<pre style=\"white-space:pre;overflow-x:auto;line-height:normal;font-family:Menlo,'DejaVu Sans Mono',consolas,'Courier New',monospace\">┏━━━━━━━━━━━━━━━━━━━━━━━━━━━━━━━━━┳━━━━━━━━━━━━━━━━━━━━━━━━┳━━━━━━━━━━━━━━━┓\n┃<span style=\"font-weight: bold\"> Layer (type)                    </span>┃<span style=\"font-weight: bold\"> Output Shape           </span>┃<span style=\"font-weight: bold\">       Param # </span>┃\n┡━━━━━━━━━━━━━━━━━━━━━━━━━━━━━━━━━╇━━━━━━━━━━━━━━━━━━━━━━━━╇━━━━━━━━━━━━━━━┩\n│ point_net_layer_6               │ (<span style=\"color: #00d7ff; text-decoration-color: #00d7ff\">None</span>, <span style=\"color: #00af00; text-decoration-color: #00af00\">6</span>, <span style=\"color: #00af00; text-decoration-color: #00af00\">32</span>)          │         <span style=\"color: #00af00; text-decoration-color: #00af00\">2,368</span> │\n│ (<span style=\"color: #0087ff; text-decoration-color: #0087ff\">PointNetLayer</span>)                 │                        │               │\n├─────────────────────────────────┼────────────────────────┼───────────────┤\n│ point_net_layer_7               │ (<span style=\"color: #00d7ff; text-decoration-color: #00d7ff\">None</span>, <span style=\"color: #00af00; text-decoration-color: #00af00\">6</span>, <span style=\"color: #00af00; text-decoration-color: #00af00\">64</span>)          │        <span style=\"color: #00af00; text-decoration-color: #00af00\">10,432</span> │\n│ (<span style=\"color: #0087ff; text-decoration-color: #0087ff\">PointNetLayer</span>)                 │                        │               │\n├─────────────────────────────────┼────────────────────────┼───────────────┤\n│ channel_wise_global_average_po… │ (<span style=\"color: #00d7ff; text-decoration-color: #00d7ff\">None</span>, <span style=\"color: #00af00; text-decoration-color: #00af00\">64</span>)             │             <span style=\"color: #00af00; text-decoration-color: #00af00\">0</span> │\n│ (<span style=\"color: #0087ff; text-decoration-color: #0087ff\">ChannelWiseGlobalAveragePooli…</span> │                        │               │\n├─────────────────────────────────┼────────────────────────┼───────────────┤\n│ dense_30 (<span style=\"color: #0087ff; text-decoration-color: #0087ff\">Dense</span>)                │ (<span style=\"color: #00d7ff; text-decoration-color: #00d7ff\">None</span>, <span style=\"color: #00af00; text-decoration-color: #00af00\">64</span>)             │         <span style=\"color: #00af00; text-decoration-color: #00af00\">4,160</span> │\n├─────────────────────────────────┼────────────────────────┼───────────────┤\n│ dropout_3 (<span style=\"color: #0087ff; text-decoration-color: #0087ff\">Dropout</span>)             │ (<span style=\"color: #00d7ff; text-decoration-color: #00d7ff\">None</span>, <span style=\"color: #00af00; text-decoration-color: #00af00\">64</span>)             │             <span style=\"color: #00af00; text-decoration-color: #00af00\">0</span> │\n├─────────────────────────────────┼────────────────────────┼───────────────┤\n│ re_lu_3 (<span style=\"color: #0087ff; text-decoration-color: #0087ff\">ReLU</span>)                  │ (<span style=\"color: #00d7ff; text-decoration-color: #00d7ff\">None</span>, <span style=\"color: #00af00; text-decoration-color: #00af00\">64</span>)             │             <span style=\"color: #00af00; text-decoration-color: #00af00\">0</span> │\n├─────────────────────────────────┼────────────────────────┼───────────────┤\n│ dense_31 (<span style=\"color: #0087ff; text-decoration-color: #0087ff\">Dense</span>)                │ (<span style=\"color: #00d7ff; text-decoration-color: #00d7ff\">None</span>, <span style=\"color: #00af00; text-decoration-color: #00af00\">2</span>)              │           <span style=\"color: #00af00; text-decoration-color: #00af00\">130</span> │\n└─────────────────────────────────┴────────────────────────┴───────────────┘\n</pre>\n"
     },
     "metadata": {},
     "output_type": "display_data"
    },
    {
     "data": {
      "text/plain": "\u001B[1m Total params: \u001B[0m\u001B[38;5;34m17,090\u001B[0m (66.76 KB)\n",
      "text/html": "<pre style=\"white-space:pre;overflow-x:auto;line-height:normal;font-family:Menlo,'DejaVu Sans Mono',consolas,'Courier New',monospace\"><span style=\"font-weight: bold\"> Total params: </span><span style=\"color: #00af00; text-decoration-color: #00af00\">17,090</span> (66.76 KB)\n</pre>\n"
     },
     "metadata": {},
     "output_type": "display_data"
    },
    {
     "data": {
      "text/plain": "\u001B[1m Trainable params: \u001B[0m\u001B[38;5;34m17,090\u001B[0m (66.76 KB)\n",
      "text/html": "<pre style=\"white-space:pre;overflow-x:auto;line-height:normal;font-family:Menlo,'DejaVu Sans Mono',consolas,'Courier New',monospace\"><span style=\"font-weight: bold\"> Trainable params: </span><span style=\"color: #00af00; text-decoration-color: #00af00\">17,090</span> (66.76 KB)\n</pre>\n"
     },
     "metadata": {},
     "output_type": "display_data"
    },
    {
     "data": {
      "text/plain": "\u001B[1m Non-trainable params: \u001B[0m\u001B[38;5;34m0\u001B[0m (0.00 B)\n",
      "text/html": "<pre style=\"white-space:pre;overflow-x:auto;line-height:normal;font-family:Menlo,'DejaVu Sans Mono',consolas,'Courier New',monospace\"><span style=\"font-weight: bold\"> Non-trainable params: </span><span style=\"color: #00af00; text-decoration-color: #00af00\">0</span> (0.00 B)\n</pre>\n"
     },
     "metadata": {},
     "output_type": "display_data"
    }
   ],
   "source": [
    "# just including one layer\n",
    "mlp = keras.Sequential([\n",
    "    keras.layers.InputLayer(shape=[7]),\n",
    "    keras.layers.Dense(32, activation='relu'),\n",
    "    keras.layers.Dense(32, activation='relu'),\n",
    "    keras.layers.Dense(32, activation='relu')\n",
    "])\n",
    "\n",
    "mlp_2 = keras.Sequential([\n",
    "    keras.layers.InputLayer(shape=[32]),\n",
    "    keras.layers.Dense(64, activation='relu'),\n",
    "    keras.layers.Dense(64, activation='relu'),\n",
    "    keras.layers.Dense(64, activation='relu')\n",
    "])\n",
    "\n",
    "model = keras.Sequential([\n",
    "    keras.layers.InputLayer(shape=[6, 7]),\n",
    "    PointNetLayer(mlp),\n",
    "    PointNetLayer(mlp_2),\n",
    "    ChannelWiseGlobalAveragePooling(),\n",
    "    keras.layers.Dense(64),\n",
    "    keras.layers.Dropout(rate=0.1),\n",
    "    keras.layers.ReLU(),\n",
    "    keras.layers.Dense(2, activation='softmax')\n",
    "])\n",
    "\n",
    "model.summary()"
   ],
   "metadata": {
    "collapsed": false,
    "ExecuteTime": {
     "end_time": "2024-06-13T20:03:05.552443Z",
     "start_time": "2024-06-13T20:03:05.529353Z"
    }
   },
   "id": "bc9c6556bb3a1c75",
   "execution_count": 31
  },
  {
   "cell_type": "code",
   "outputs": [
    {
     "name": "stdout",
     "output_type": "stream",
     "text": [
      "Epoch 1/100\n",
      "\u001B[1m2125/2125\u001B[0m \u001B[32m━━━━━━━━━━━━━━━━━━━━\u001B[0m\u001B[37m\u001B[0m \u001B[1m2s\u001B[0m 705us/step - accuracy: 0.5376 - loss: 0.6886 - val_accuracy: 0.5594 - val_loss: 0.6725\n",
      "Epoch 2/100\n",
      "\u001B[1m2125/2125\u001B[0m \u001B[32m━━━━━━━━━━━━━━━━━━━━\u001B[0m\u001B[37m\u001B[0m \u001B[1m1s\u001B[0m 687us/step - accuracy: 0.5573 - loss: 0.6758 - val_accuracy: 0.5644 - val_loss: 0.6794\n",
      "Epoch 3/100\n",
      "\u001B[1m2125/2125\u001B[0m \u001B[32m━━━━━━━━━━━━━━━━━━━━\u001B[0m\u001B[37m\u001B[0m \u001B[1m1s\u001B[0m 665us/step - accuracy: 0.5588 - loss: 0.6749 - val_accuracy: 0.5648 - val_loss: 0.6715\n",
      "Epoch 4/100\n",
      "\u001B[1m2125/2125\u001B[0m \u001B[32m━━━━━━━━━━━━━━━━━━━━\u001B[0m\u001B[37m\u001B[0m \u001B[1m1s\u001B[0m 662us/step - accuracy: 0.5649 - loss: 0.6730 - val_accuracy: 0.5747 - val_loss: 0.6695\n",
      "Epoch 5/100\n",
      "\u001B[1m2125/2125\u001B[0m \u001B[32m━━━━━━━━━━━━━━━━━━━━\u001B[0m\u001B[37m\u001B[0m \u001B[1m1s\u001B[0m 661us/step - accuracy: 0.5744 - loss: 0.6713 - val_accuracy: 0.5839 - val_loss: 0.6656\n",
      "Epoch 6/100\n",
      "\u001B[1m2125/2125\u001B[0m \u001B[32m━━━━━━━━━━━━━━━━━━━━\u001B[0m\u001B[37m\u001B[0m \u001B[1m1s\u001B[0m 661us/step - accuracy: 0.5779 - loss: 0.6680 - val_accuracy: 0.5897 - val_loss: 0.6621\n",
      "Epoch 7/100\n",
      "\u001B[1m2125/2125\u001B[0m \u001B[32m━━━━━━━━━━━━━━━━━━━━\u001B[0m\u001B[37m\u001B[0m \u001B[1m1s\u001B[0m 660us/step - accuracy: 0.5859 - loss: 0.6656 - val_accuracy: 0.5866 - val_loss: 0.6670\n",
      "Epoch 8/100\n",
      "\u001B[1m2125/2125\u001B[0m \u001B[32m━━━━━━━━━━━━━━━━━━━━\u001B[0m\u001B[37m\u001B[0m \u001B[1m1s\u001B[0m 660us/step - accuracy: 0.5878 - loss: 0.6652 - val_accuracy: 0.5889 - val_loss: 0.6612\n",
      "Epoch 9/100\n",
      "\u001B[1m2125/2125\u001B[0m \u001B[32m━━━━━━━━━━━━━━━━━━━━\u001B[0m\u001B[37m\u001B[0m \u001B[1m1s\u001B[0m 662us/step - accuracy: 0.5899 - loss: 0.6635 - val_accuracy: 0.5937 - val_loss: 0.6627\n",
      "Epoch 10/100\n",
      "\u001B[1m2125/2125\u001B[0m \u001B[32m━━━━━━━━━━━━━━━━━━━━\u001B[0m\u001B[37m\u001B[0m \u001B[1m1s\u001B[0m 660us/step - accuracy: 0.5880 - loss: 0.6639 - val_accuracy: 0.5938 - val_loss: 0.6598\n",
      "Epoch 11/100\n",
      "\u001B[1m2125/2125\u001B[0m \u001B[32m━━━━━━━━━━━━━━━━━━━━\u001B[0m\u001B[37m\u001B[0m \u001B[1m1s\u001B[0m 664us/step - accuracy: 0.5957 - loss: 0.6603 - val_accuracy: 0.5904 - val_loss: 0.6609\n",
      "Epoch 12/100\n",
      "\u001B[1m2125/2125\u001B[0m \u001B[32m━━━━━━━━━━━━━━━━━━━━\u001B[0m\u001B[37m\u001B[0m \u001B[1m1s\u001B[0m 675us/step - accuracy: 0.5933 - loss: 0.6621 - val_accuracy: 0.5921 - val_loss: 0.6584\n",
      "Epoch 13/100\n",
      "\u001B[1m2125/2125\u001B[0m \u001B[32m━━━━━━━━━━━━━━━━━━━━\u001B[0m\u001B[37m\u001B[0m \u001B[1m1s\u001B[0m 667us/step - accuracy: 0.5938 - loss: 0.6622 - val_accuracy: 0.5968 - val_loss: 0.6568\n",
      "Epoch 14/100\n",
      "\u001B[1m2125/2125\u001B[0m \u001B[32m━━━━━━━━━━━━━━━━━━━━\u001B[0m\u001B[37m\u001B[0m \u001B[1m1s\u001B[0m 669us/step - accuracy: 0.5972 - loss: 0.6600 - val_accuracy: 0.5994 - val_loss: 0.6569\n",
      "Epoch 15/100\n",
      "\u001B[1m2125/2125\u001B[0m \u001B[32m━━━━━━━━━━━━━━━━━━━━\u001B[0m\u001B[37m\u001B[0m \u001B[1m1s\u001B[0m 670us/step - accuracy: 0.5969 - loss: 0.6608 - val_accuracy: 0.5985 - val_loss: 0.6566\n",
      "Epoch 16/100\n",
      "\u001B[1m2125/2125\u001B[0m \u001B[32m━━━━━━━━━━━━━━━━━━━━\u001B[0m\u001B[37m\u001B[0m \u001B[1m1s\u001B[0m 670us/step - accuracy: 0.5975 - loss: 0.6587 - val_accuracy: 0.5984 - val_loss: 0.6586\n",
      "Epoch 17/100\n",
      "\u001B[1m2125/2125\u001B[0m \u001B[32m━━━━━━━━━━━━━━━━━━━━\u001B[0m\u001B[37m\u001B[0m \u001B[1m1s\u001B[0m 663us/step - accuracy: 0.5978 - loss: 0.6593 - val_accuracy: 0.5978 - val_loss: 0.6569\n",
      "Epoch 18/100\n",
      "\u001B[1m2125/2125\u001B[0m \u001B[32m━━━━━━━━━━━━━━━━━━━━\u001B[0m\u001B[37m\u001B[0m \u001B[1m1s\u001B[0m 659us/step - accuracy: 0.5971 - loss: 0.6607 - val_accuracy: 0.6020 - val_loss: 0.6574\n",
      "Epoch 19/100\n",
      "\u001B[1m2125/2125\u001B[0m \u001B[32m━━━━━━━━━━━━━━━━━━━━\u001B[0m\u001B[37m\u001B[0m \u001B[1m1s\u001B[0m 660us/step - accuracy: 0.6020 - loss: 0.6596 - val_accuracy: 0.6012 - val_loss: 0.6552\n",
      "Epoch 20/100\n",
      "\u001B[1m2125/2125\u001B[0m \u001B[32m━━━━━━━━━━━━━━━━━━━━\u001B[0m\u001B[37m\u001B[0m \u001B[1m1s\u001B[0m 664us/step - accuracy: 0.6020 - loss: 0.6571 - val_accuracy: 0.6012 - val_loss: 0.6559\n",
      "Epoch 21/100\n",
      "\u001B[1m2125/2125\u001B[0m \u001B[32m━━━━━━━━━━━━━━━━━━━━\u001B[0m\u001B[37m\u001B[0m \u001B[1m1s\u001B[0m 648us/step - accuracy: 0.6036 - loss: 0.6567 - val_accuracy: 0.5909 - val_loss: 0.6625\n",
      "Epoch 22/100\n",
      "\u001B[1m2125/2125\u001B[0m \u001B[32m━━━━━━━━━━━━━━━━━━━━\u001B[0m\u001B[37m\u001B[0m \u001B[1m1s\u001B[0m 642us/step - accuracy: 0.6029 - loss: 0.6577 - val_accuracy: 0.6021 - val_loss: 0.6554\n",
      "Epoch 23/100\n",
      "\u001B[1m2125/2125\u001B[0m \u001B[32m━━━━━━━━━━━━━━━━━━━━\u001B[0m\u001B[37m\u001B[0m \u001B[1m1s\u001B[0m 638us/step - accuracy: 0.6082 - loss: 0.6550 - val_accuracy: 0.6027 - val_loss: 0.6553\n",
      "Epoch 24/100\n",
      "\u001B[1m2125/2125\u001B[0m \u001B[32m━━━━━━━━━━━━━━━━━━━━\u001B[0m\u001B[37m\u001B[0m \u001B[1m1s\u001B[0m 638us/step - accuracy: 0.6040 - loss: 0.6566 - val_accuracy: 0.6033 - val_loss: 0.6552\n",
      "Epoch 25/100\n",
      "\u001B[1m2125/2125\u001B[0m \u001B[32m━━━━━━━━━━━━━━━━━━━━\u001B[0m\u001B[37m\u001B[0m \u001B[1m1s\u001B[0m 637us/step - accuracy: 0.6056 - loss: 0.6556 - val_accuracy: 0.6073 - val_loss: 0.6519\n",
      "Epoch 26/100\n",
      "\u001B[1m2125/2125\u001B[0m \u001B[32m━━━━━━━━━━━━━━━━━━━━\u001B[0m\u001B[37m\u001B[0m \u001B[1m1s\u001B[0m 641us/step - accuracy: 0.6071 - loss: 0.6542 - val_accuracy: 0.6090 - val_loss: 0.6505\n",
      "Epoch 27/100\n",
      "\u001B[1m2125/2125\u001B[0m \u001B[32m━━━━━━━━━━━━━━━━━━━━\u001B[0m\u001B[37m\u001B[0m \u001B[1m1s\u001B[0m 636us/step - accuracy: 0.6117 - loss: 0.6514 - val_accuracy: 0.6094 - val_loss: 0.6515\n",
      "Epoch 28/100\n",
      "\u001B[1m2125/2125\u001B[0m \u001B[32m━━━━━━━━━━━━━━━━━━━━\u001B[0m\u001B[37m\u001B[0m \u001B[1m1s\u001B[0m 651us/step - accuracy: 0.6162 - loss: 0.6486 - val_accuracy: 0.6161 - val_loss: 0.6491\n",
      "Epoch 29/100\n",
      "\u001B[1m2125/2125\u001B[0m \u001B[32m━━━━━━━━━━━━━━━━━━━━\u001B[0m\u001B[37m\u001B[0m \u001B[1m1s\u001B[0m 650us/step - accuracy: 0.6215 - loss: 0.6465 - val_accuracy: 0.6098 - val_loss: 0.6487\n",
      "Epoch 30/100\n",
      "\u001B[1m2125/2125\u001B[0m \u001B[32m━━━━━━━━━━━━━━━━━━━━\u001B[0m\u001B[37m\u001B[0m \u001B[1m1s\u001B[0m 654us/step - accuracy: 0.6179 - loss: 0.6471 - val_accuracy: 0.6158 - val_loss: 0.6469\n",
      "Epoch 31/100\n",
      "\u001B[1m2125/2125\u001B[0m \u001B[32m━━━━━━━━━━━━━━━━━━━━\u001B[0m\u001B[37m\u001B[0m \u001B[1m1s\u001B[0m 634us/step - accuracy: 0.6173 - loss: 0.6484 - val_accuracy: 0.6174 - val_loss: 0.6451\n",
      "Epoch 32/100\n",
      "\u001B[1m2125/2125\u001B[0m \u001B[32m━━━━━━━━━━━━━━━━━━━━\u001B[0m\u001B[37m\u001B[0m \u001B[1m1s\u001B[0m 643us/step - accuracy: 0.6193 - loss: 0.6447 - val_accuracy: 0.6152 - val_loss: 0.6459\n",
      "Epoch 33/100\n",
      "\u001B[1m2125/2125\u001B[0m \u001B[32m━━━━━━━━━━━━━━━━━━━━\u001B[0m\u001B[37m\u001B[0m \u001B[1m1s\u001B[0m 641us/step - accuracy: 0.6214 - loss: 0.6437 - val_accuracy: 0.6212 - val_loss: 0.6448\n",
      "Epoch 34/100\n",
      "\u001B[1m2125/2125\u001B[0m \u001B[32m━━━━━━━━━━━━━━━━━━━━\u001B[0m\u001B[37m\u001B[0m \u001B[1m1s\u001B[0m 662us/step - accuracy: 0.6200 - loss: 0.6447 - val_accuracy: 0.6192 - val_loss: 0.6453\n",
      "Epoch 35/100\n",
      "\u001B[1m2125/2125\u001B[0m \u001B[32m━━━━━━━━━━━━━━━━━━━━\u001B[0m\u001B[37m\u001B[0m \u001B[1m1s\u001B[0m 700us/step - accuracy: 0.6232 - loss: 0.6434 - val_accuracy: 0.6183 - val_loss: 0.6450\n",
      "Epoch 36/100\n",
      "\u001B[1m2125/2125\u001B[0m \u001B[32m━━━━━━━━━━━━━━━━━━━━\u001B[0m\u001B[37m\u001B[0m \u001B[1m2s\u001B[0m 704us/step - accuracy: 0.6237 - loss: 0.6413 - val_accuracy: 0.6212 - val_loss: 0.6450\n",
      "Epoch 37/100\n",
      "\u001B[1m2125/2125\u001B[0m \u001B[32m━━━━━━━━━━━━━━━━━━━━\u001B[0m\u001B[37m\u001B[0m \u001B[1m2s\u001B[0m 706us/step - accuracy: 0.6234 - loss: 0.6420 - val_accuracy: 0.6212 - val_loss: 0.6433\n",
      "Epoch 38/100\n",
      "\u001B[1m2125/2125\u001B[0m \u001B[32m━━━━━━━━━━━━━━━━━━━━\u001B[0m\u001B[37m\u001B[0m \u001B[1m2s\u001B[0m 753us/step - accuracy: 0.6232 - loss: 0.6416 - val_accuracy: 0.6218 - val_loss: 0.6451\n",
      "Epoch 39/100\n",
      "\u001B[1m2125/2125\u001B[0m \u001B[32m━━━━━━━━━━━━━━━━━━━━\u001B[0m\u001B[37m\u001B[0m \u001B[1m2s\u001B[0m 757us/step - accuracy: 0.6253 - loss: 0.6417 - val_accuracy: 0.6212 - val_loss: 0.6420\n",
      "Epoch 40/100\n",
      "\u001B[1m2125/2125\u001B[0m \u001B[32m━━━━━━━━━━━━━━━━━━━━\u001B[0m\u001B[37m\u001B[0m \u001B[1m1s\u001B[0m 649us/step - accuracy: 0.6223 - loss: 0.6417 - val_accuracy: 0.6203 - val_loss: 0.6438\n",
      "Epoch 41/100\n",
      "\u001B[1m2125/2125\u001B[0m \u001B[32m━━━━━━━━━━━━━━━━━━━━\u001B[0m\u001B[37m\u001B[0m \u001B[1m1s\u001B[0m 643us/step - accuracy: 0.6248 - loss: 0.6406 - val_accuracy: 0.6183 - val_loss: 0.6457\n",
      "Epoch 42/100\n",
      "\u001B[1m2125/2125\u001B[0m \u001B[32m━━━━━━━━━━━━━━━━━━━━\u001B[0m\u001B[37m\u001B[0m \u001B[1m1s\u001B[0m 643us/step - accuracy: 0.6253 - loss: 0.6409 - val_accuracy: 0.6173 - val_loss: 0.6437\n",
      "Epoch 43/100\n",
      "\u001B[1m2125/2125\u001B[0m \u001B[32m━━━━━━━━━━━━━━━━━━━━\u001B[0m\u001B[37m\u001B[0m \u001B[1m1s\u001B[0m 645us/step - accuracy: 0.6278 - loss: 0.6411 - val_accuracy: 0.6226 - val_loss: 0.6439\n",
      "Epoch 44/100\n",
      "\u001B[1m2125/2125\u001B[0m \u001B[32m━━━━━━━━━━━━━━━━━━━━\u001B[0m\u001B[37m\u001B[0m \u001B[1m1s\u001B[0m 659us/step - accuracy: 0.6275 - loss: 0.6404 - val_accuracy: 0.6212 - val_loss: 0.6419\n",
      "Epoch 45/100\n",
      "\u001B[1m2125/2125\u001B[0m \u001B[32m━━━━━━━━━━━━━━━━━━━━\u001B[0m\u001B[37m\u001B[0m \u001B[1m1s\u001B[0m 643us/step - accuracy: 0.6286 - loss: 0.6384 - val_accuracy: 0.6230 - val_loss: 0.6458\n",
      "Epoch 46/100\n",
      "\u001B[1m2125/2125\u001B[0m \u001B[32m━━━━━━━━━━━━━━━━━━━━\u001B[0m\u001B[37m\u001B[0m \u001B[1m1s\u001B[0m 650us/step - accuracy: 0.6277 - loss: 0.6391 - val_accuracy: 0.6218 - val_loss: 0.6453\n",
      "Epoch 47/100\n",
      "\u001B[1m2125/2125\u001B[0m \u001B[32m━━━━━━━━━━━━━━━━━━━━\u001B[0m\u001B[37m\u001B[0m \u001B[1m1s\u001B[0m 643us/step - accuracy: 0.6324 - loss: 0.6362 - val_accuracy: 0.6326 - val_loss: 0.6405\n",
      "Epoch 48/100\n",
      "\u001B[1m2125/2125\u001B[0m \u001B[32m━━━━━━━━━━━━━━━━━━━━\u001B[0m\u001B[37m\u001B[0m \u001B[1m1s\u001B[0m 647us/step - accuracy: 0.6336 - loss: 0.6364 - val_accuracy: 0.6241 - val_loss: 0.6425\n",
      "Epoch 49/100\n",
      "\u001B[1m2125/2125\u001B[0m \u001B[32m━━━━━━━━━━━━━━━━━━━━\u001B[0m\u001B[37m\u001B[0m \u001B[1m1s\u001B[0m 654us/step - accuracy: 0.6324 - loss: 0.6361 - val_accuracy: 0.6224 - val_loss: 0.6428\n",
      "Epoch 50/100\n",
      "\u001B[1m2125/2125\u001B[0m \u001B[32m━━━━━━━━━━━━━━━━━━━━\u001B[0m\u001B[37m\u001B[0m \u001B[1m1s\u001B[0m 667us/step - accuracy: 0.6314 - loss: 0.6368 - val_accuracy: 0.6244 - val_loss: 0.6428\n",
      "Epoch 51/100\n",
      "\u001B[1m2125/2125\u001B[0m \u001B[32m━━━━━━━━━━━━━━━━━━━━\u001B[0m\u001B[37m\u001B[0m \u001B[1m1s\u001B[0m 672us/step - accuracy: 0.6310 - loss: 0.6358 - val_accuracy: 0.6267 - val_loss: 0.6394\n",
      "Epoch 52/100\n",
      "\u001B[1m2125/2125\u001B[0m \u001B[32m━━━━━━━━━━━━━━━━━━━━\u001B[0m\u001B[37m\u001B[0m \u001B[1m1s\u001B[0m 667us/step - accuracy: 0.6335 - loss: 0.6347 - val_accuracy: 0.6257 - val_loss: 0.6410\n",
      "Epoch 53/100\n",
      "\u001B[1m2125/2125\u001B[0m \u001B[32m━━━━━━━━━━━━━━━━━━━━\u001B[0m\u001B[37m\u001B[0m \u001B[1m1s\u001B[0m 667us/step - accuracy: 0.6316 - loss: 0.6356 - val_accuracy: 0.6277 - val_loss: 0.6415\n",
      "Epoch 54/100\n",
      "\u001B[1m2125/2125\u001B[0m \u001B[32m━━━━━━━━━━━━━━━━━━━━\u001B[0m\u001B[37m\u001B[0m \u001B[1m1s\u001B[0m 662us/step - accuracy: 0.6327 - loss: 0.6362 - val_accuracy: 0.6282 - val_loss: 0.6393\n",
      "Epoch 55/100\n",
      "\u001B[1m2125/2125\u001B[0m \u001B[32m━━━━━━━━━━━━━━━━━━━━\u001B[0m\u001B[37m\u001B[0m \u001B[1m1s\u001B[0m 662us/step - accuracy: 0.6323 - loss: 0.6348 - val_accuracy: 0.6229 - val_loss: 0.6409\n",
      "Epoch 56/100\n",
      "\u001B[1m2125/2125\u001B[0m \u001B[32m━━━━━━━━━━━━━━━━━━━━\u001B[0m\u001B[37m\u001B[0m \u001B[1m1s\u001B[0m 660us/step - accuracy: 0.6354 - loss: 0.6349 - val_accuracy: 0.6290 - val_loss: 0.6387\n",
      "Epoch 57/100\n",
      "\u001B[1m2125/2125\u001B[0m \u001B[32m━━━━━━━━━━━━━━━━━━━━\u001B[0m\u001B[37m\u001B[0m \u001B[1m1s\u001B[0m 663us/step - accuracy: 0.6383 - loss: 0.6308 - val_accuracy: 0.6304 - val_loss: 0.6423\n",
      "Epoch 58/100\n",
      "\u001B[1m2125/2125\u001B[0m \u001B[32m━━━━━━━━━━━━━━━━━━━━\u001B[0m\u001B[37m\u001B[0m \u001B[1m1s\u001B[0m 655us/step - accuracy: 0.6331 - loss: 0.6357 - val_accuracy: 0.6253 - val_loss: 0.6433\n",
      "Epoch 59/100\n",
      "\u001B[1m2125/2125\u001B[0m \u001B[32m━━━━━━━━━━━━━━━━━━━━\u001B[0m\u001B[37m\u001B[0m \u001B[1m1s\u001B[0m 651us/step - accuracy: 0.6386 - loss: 0.6310 - val_accuracy: 0.6246 - val_loss: 0.6419\n",
      "Epoch 60/100\n",
      "\u001B[1m2125/2125\u001B[0m \u001B[32m━━━━━━━━━━━━━━━━━━━━\u001B[0m\u001B[37m\u001B[0m \u001B[1m1s\u001B[0m 644us/step - accuracy: 0.6347 - loss: 0.6338 - val_accuracy: 0.6291 - val_loss: 0.6396\n",
      "Epoch 61/100\n",
      "\u001B[1m2125/2125\u001B[0m \u001B[32m━━━━━━━━━━━━━━━━━━━━\u001B[0m\u001B[37m\u001B[0m \u001B[1m1s\u001B[0m 647us/step - accuracy: 0.6364 - loss: 0.6331 - val_accuracy: 0.6266 - val_loss: 0.6429\n",
      "Epoch 62/100\n",
      "\u001B[1m2125/2125\u001B[0m \u001B[32m━━━━━━━━━━━━━━━━━━━━\u001B[0m\u001B[37m\u001B[0m \u001B[1m1s\u001B[0m 646us/step - accuracy: 0.6350 - loss: 0.6344 - val_accuracy: 0.6267 - val_loss: 0.6437\n",
      "Epoch 63/100\n",
      "\u001B[1m2125/2125\u001B[0m \u001B[32m━━━━━━━━━━━━━━━━━━━━\u001B[0m\u001B[37m\u001B[0m \u001B[1m1s\u001B[0m 647us/step - accuracy: 0.6374 - loss: 0.6324 - val_accuracy: 0.6297 - val_loss: 0.6402\n",
      "Epoch 64/100\n",
      "\u001B[1m2125/2125\u001B[0m \u001B[32m━━━━━━━━━━━━━━━━━━━━\u001B[0m\u001B[37m\u001B[0m \u001B[1m1s\u001B[0m 662us/step - accuracy: 0.6374 - loss: 0.6312 - val_accuracy: 0.6285 - val_loss: 0.6404\n",
      "Epoch 65/100\n",
      "\u001B[1m2125/2125\u001B[0m \u001B[32m━━━━━━━━━━━━━━━━━━━━\u001B[0m\u001B[37m\u001B[0m \u001B[1m1s\u001B[0m 657us/step - accuracy: 0.6395 - loss: 0.6319 - val_accuracy: 0.6201 - val_loss: 0.6411\n",
      "Epoch 66/100\n",
      "\u001B[1m2125/2125\u001B[0m \u001B[32m━━━━━━━━━━━━━━━━━━━━\u001B[0m\u001B[37m\u001B[0m \u001B[1m1s\u001B[0m 652us/step - accuracy: 0.6385 - loss: 0.6324 - val_accuracy: 0.6304 - val_loss: 0.6372\n",
      "Epoch 67/100\n",
      "\u001B[1m2125/2125\u001B[0m \u001B[32m━━━━━━━━━━━━━━━━━━━━\u001B[0m\u001B[37m\u001B[0m \u001B[1m1s\u001B[0m 645us/step - accuracy: 0.6396 - loss: 0.6317 - val_accuracy: 0.6294 - val_loss: 0.6380\n",
      "Epoch 68/100\n",
      "\u001B[1m2125/2125\u001B[0m \u001B[32m━━━━━━━━━━━━━━━━━━━━\u001B[0m\u001B[37m\u001B[0m \u001B[1m1s\u001B[0m 643us/step - accuracy: 0.6392 - loss: 0.6297 - val_accuracy: 0.6323 - val_loss: 0.6390\n",
      "Epoch 69/100\n",
      "\u001B[1m2125/2125\u001B[0m \u001B[32m━━━━━━━━━━━━━━━━━━━━\u001B[0m\u001B[37m\u001B[0m \u001B[1m1s\u001B[0m 653us/step - accuracy: 0.6410 - loss: 0.6291 - val_accuracy: 0.6312 - val_loss: 0.6394\n",
      "Epoch 70/100\n",
      "\u001B[1m2125/2125\u001B[0m \u001B[32m━━━━━━━━━━━━━━━━━━━━\u001B[0m\u001B[37m\u001B[0m \u001B[1m1s\u001B[0m 641us/step - accuracy: 0.6442 - loss: 0.6271 - val_accuracy: 0.6304 - val_loss: 0.6395\n",
      "Epoch 71/100\n",
      "\u001B[1m2125/2125\u001B[0m \u001B[32m━━━━━━━━━━━━━━━━━━━━\u001B[0m\u001B[37m\u001B[0m \u001B[1m1s\u001B[0m 650us/step - accuracy: 0.6431 - loss: 0.6284 - val_accuracy: 0.6346 - val_loss: 0.6387\n",
      "Epoch 72/100\n",
      "\u001B[1m2125/2125\u001B[0m \u001B[32m━━━━━━━━━━━━━━━━━━━━\u001B[0m\u001B[37m\u001B[0m \u001B[1m1s\u001B[0m 645us/step - accuracy: 0.6430 - loss: 0.6279 - val_accuracy: 0.6341 - val_loss: 0.6379\n",
      "Epoch 73/100\n",
      "\u001B[1m2125/2125\u001B[0m \u001B[32m━━━━━━━━━━━━━━━━━━━━\u001B[0m\u001B[37m\u001B[0m \u001B[1m1s\u001B[0m 642us/step - accuracy: 0.6419 - loss: 0.6283 - val_accuracy: 0.6351 - val_loss: 0.6377\n",
      "Epoch 74/100\n",
      "\u001B[1m2125/2125\u001B[0m \u001B[32m━━━━━━━━━━━━━━━━━━━━\u001B[0m\u001B[37m\u001B[0m \u001B[1m1s\u001B[0m 669us/step - accuracy: 0.6427 - loss: 0.6287 - val_accuracy: 0.6248 - val_loss: 0.6405\n",
      "Epoch 75/100\n",
      "\u001B[1m2125/2125\u001B[0m \u001B[32m━━━━━━━━━━━━━━━━━━━━\u001B[0m\u001B[37m\u001B[0m \u001B[1m1s\u001B[0m 659us/step - accuracy: 0.6433 - loss: 0.6294 - val_accuracy: 0.6298 - val_loss: 0.6387\n",
      "Epoch 76/100\n",
      "\u001B[1m2125/2125\u001B[0m \u001B[32m━━━━━━━━━━━━━━━━━━━━\u001B[0m\u001B[37m\u001B[0m \u001B[1m1s\u001B[0m 644us/step - accuracy: 0.6433 - loss: 0.6270 - val_accuracy: 0.6355 - val_loss: 0.6388\n",
      "Epoch 77/100\n",
      "\u001B[1m2125/2125\u001B[0m \u001B[32m━━━━━━━━━━━━━━━━━━━━\u001B[0m\u001B[37m\u001B[0m \u001B[1m1s\u001B[0m 663us/step - accuracy: 0.6445 - loss: 0.6265 - val_accuracy: 0.6350 - val_loss: 0.6377\n",
      "Epoch 78/100\n",
      "\u001B[1m2125/2125\u001B[0m \u001B[32m━━━━━━━━━━━━━━━━━━━━\u001B[0m\u001B[37m\u001B[0m \u001B[1m1s\u001B[0m 652us/step - accuracy: 0.6444 - loss: 0.6270 - val_accuracy: 0.6278 - val_loss: 0.6401\n",
      "Epoch 79/100\n",
      "\u001B[1m2125/2125\u001B[0m \u001B[32m━━━━━━━━━━━━━━━━━━━━\u001B[0m\u001B[37m\u001B[0m \u001B[1m1s\u001B[0m 651us/step - accuracy: 0.6444 - loss: 0.6277 - val_accuracy: 0.6319 - val_loss: 0.6379\n",
      "Epoch 80/100\n",
      "\u001B[1m2125/2125\u001B[0m \u001B[32m━━━━━━━━━━━━━━━━━━━━\u001B[0m\u001B[37m\u001B[0m \u001B[1m1s\u001B[0m 652us/step - accuracy: 0.6455 - loss: 0.6267 - val_accuracy: 0.6391 - val_loss: 0.6352\n",
      "Epoch 81/100\n",
      "\u001B[1m2125/2125\u001B[0m \u001B[32m━━━━━━━━━━━━━━━━━━━━\u001B[0m\u001B[37m\u001B[0m \u001B[1m1s\u001B[0m 653us/step - accuracy: 0.6449 - loss: 0.6255 - val_accuracy: 0.6330 - val_loss: 0.6388\n",
      "Epoch 82/100\n",
      "\u001B[1m2125/2125\u001B[0m \u001B[32m━━━━━━━━━━━━━━━━━━━━\u001B[0m\u001B[37m\u001B[0m \u001B[1m1s\u001B[0m 649us/step - accuracy: 0.6474 - loss: 0.6240 - val_accuracy: 0.6265 - val_loss: 0.6407\n",
      "Epoch 83/100\n",
      "\u001B[1m2125/2125\u001B[0m \u001B[32m━━━━━━━━━━━━━━━━━━━━\u001B[0m\u001B[37m\u001B[0m \u001B[1m1s\u001B[0m 658us/step - accuracy: 0.6428 - loss: 0.6274 - val_accuracy: 0.6351 - val_loss: 0.6389\n",
      "Epoch 84/100\n",
      "\u001B[1m2125/2125\u001B[0m \u001B[32m━━━━━━━━━━━━━━━━━━━━\u001B[0m\u001B[37m\u001B[0m \u001B[1m1s\u001B[0m 650us/step - accuracy: 0.6453 - loss: 0.6258 - val_accuracy: 0.6297 - val_loss: 0.6410\n",
      "Epoch 85/100\n",
      "\u001B[1m2125/2125\u001B[0m \u001B[32m━━━━━━━━━━━━━━━━━━━━\u001B[0m\u001B[37m\u001B[0m \u001B[1m1s\u001B[0m 652us/step - accuracy: 0.6472 - loss: 0.6260 - val_accuracy: 0.6333 - val_loss: 0.6371\n",
      "Epoch 86/100\n",
      "\u001B[1m2125/2125\u001B[0m \u001B[32m━━━━━━━━━━━━━━━━━━━━\u001B[0m\u001B[37m\u001B[0m \u001B[1m1s\u001B[0m 647us/step - accuracy: 0.6444 - loss: 0.6262 - val_accuracy: 0.6313 - val_loss: 0.6379\n",
      "Epoch 87/100\n",
      "\u001B[1m2125/2125\u001B[0m \u001B[32m━━━━━━━━━━━━━━━━━━━━\u001B[0m\u001B[37m\u001B[0m \u001B[1m1s\u001B[0m 650us/step - accuracy: 0.6472 - loss: 0.6226 - val_accuracy: 0.6363 - val_loss: 0.6365\n",
      "Epoch 88/100\n",
      "\u001B[1m2125/2125\u001B[0m \u001B[32m━━━━━━━━━━━━━━━━━━━━\u001B[0m\u001B[37m\u001B[0m \u001B[1m1s\u001B[0m 647us/step - accuracy: 0.6479 - loss: 0.6249 - val_accuracy: 0.6378 - val_loss: 0.6363\n",
      "Epoch 89/100\n",
      "\u001B[1m2125/2125\u001B[0m \u001B[32m━━━━━━━━━━━━━━━━━━━━\u001B[0m\u001B[37m\u001B[0m \u001B[1m1s\u001B[0m 646us/step - accuracy: 0.6514 - loss: 0.6238 - val_accuracy: 0.6347 - val_loss: 0.6357\n",
      "Epoch 90/100\n",
      "\u001B[1m2125/2125\u001B[0m \u001B[32m━━━━━━━━━━━━━━━━━━━━\u001B[0m\u001B[37m\u001B[0m \u001B[1m1s\u001B[0m 650us/step - accuracy: 0.6485 - loss: 0.6243 - val_accuracy: 0.6347 - val_loss: 0.6378\n",
      "Epoch 91/100\n",
      "\u001B[1m2125/2125\u001B[0m \u001B[32m━━━━━━━━━━━━━━━━━━━━\u001B[0m\u001B[37m\u001B[0m \u001B[1m1s\u001B[0m 646us/step - accuracy: 0.6517 - loss: 0.6221 - val_accuracy: 0.6311 - val_loss: 0.6384\n",
      "Epoch 92/100\n",
      "\u001B[1m2125/2125\u001B[0m \u001B[32m━━━━━━━━━━━━━━━━━━━━\u001B[0m\u001B[37m\u001B[0m \u001B[1m1s\u001B[0m 659us/step - accuracy: 0.6483 - loss: 0.6234 - val_accuracy: 0.6278 - val_loss: 0.6417\n",
      "Epoch 93/100\n",
      "\u001B[1m2125/2125\u001B[0m \u001B[32m━━━━━━━━━━━━━━━━━━━━\u001B[0m\u001B[37m\u001B[0m \u001B[1m1s\u001B[0m 654us/step - accuracy: 0.6500 - loss: 0.6227 - val_accuracy: 0.6345 - val_loss: 0.6394\n",
      "Epoch 94/100\n",
      "\u001B[1m2125/2125\u001B[0m \u001B[32m━━━━━━━━━━━━━━━━━━━━\u001B[0m\u001B[37m\u001B[0m \u001B[1m1s\u001B[0m 653us/step - accuracy: 0.6508 - loss: 0.6230 - val_accuracy: 0.6398 - val_loss: 0.6398\n",
      "Epoch 95/100\n",
      "\u001B[1m2125/2125\u001B[0m \u001B[32m━━━━━━━━━━━━━━━━━━━━\u001B[0m\u001B[37m\u001B[0m \u001B[1m1s\u001B[0m 658us/step - accuracy: 0.6496 - loss: 0.6226 - val_accuracy: 0.6295 - val_loss: 0.6380\n",
      "Epoch 96/100\n",
      "\u001B[1m2125/2125\u001B[0m \u001B[32m━━━━━━━━━━━━━━━━━━━━\u001B[0m\u001B[37m\u001B[0m \u001B[1m1s\u001B[0m 673us/step - accuracy: 0.6516 - loss: 0.6224 - val_accuracy: 0.6352 - val_loss: 0.6366\n",
      "Epoch 97/100\n",
      "\u001B[1m2125/2125\u001B[0m \u001B[32m━━━━━━━━━━━━━━━━━━━━\u001B[0m\u001B[37m\u001B[0m \u001B[1m1s\u001B[0m 658us/step - accuracy: 0.6481 - loss: 0.6234 - val_accuracy: 0.6330 - val_loss: 0.6373\n",
      "Epoch 98/100\n",
      "\u001B[1m2125/2125\u001B[0m \u001B[32m━━━━━━━━━━━━━━━━━━━━\u001B[0m\u001B[37m\u001B[0m \u001B[1m1s\u001B[0m 659us/step - accuracy: 0.6531 - loss: 0.6215 - val_accuracy: 0.6275 - val_loss: 0.6425\n",
      "Epoch 99/100\n",
      "\u001B[1m2125/2125\u001B[0m \u001B[32m━━━━━━━━━━━━━━━━━━━━\u001B[0m\u001B[37m\u001B[0m \u001B[1m1s\u001B[0m 658us/step - accuracy: 0.6510 - loss: 0.6226 - val_accuracy: 0.6315 - val_loss: 0.6396\n",
      "Epoch 100/100\n",
      "\u001B[1m2125/2125\u001B[0m \u001B[32m━━━━━━━━━━━━━━━━━━━━\u001B[0m\u001B[37m\u001B[0m \u001B[1m1s\u001B[0m 660us/step - accuracy: 0.6546 - loss: 0.6199 - val_accuracy: 0.6308 - val_loss: 0.6367\n"
     ]
    },
    {
     "data": {
      "text/plain": "<keras.src.callbacks.history.History at 0x31f305610>"
     },
     "execution_count": 32,
     "metadata": {},
     "output_type": "execute_result"
    }
   ],
   "source": [
    "model.compile(optimizer='adam', loss='crossentropy', metrics=['accuracy'])\n",
    "early_stopping = keras.callbacks.EarlyStopping(patience=20, restore_best_weights=True)\n",
    "model.fit(X_train, y_train, epochs=100, batch_size=32, validation_data=(X_val, y_val), callbacks=[early_stopping])"
   ],
   "metadata": {
    "collapsed": false,
    "ExecuteTime": {
     "end_time": "2024-06-13T20:05:26.791437Z",
     "start_time": "2024-06-13T20:03:05.552998Z"
    }
   },
   "id": "c6234424de8e672d",
   "execution_count": 32
  },
  {
   "cell_type": "code",
   "outputs": [
    {
     "name": "stdout",
     "output_type": "stream",
     "text": [
      "\u001B[1m2125/2125\u001B[0m \u001B[32m━━━━━━━━━━━━━━━━━━━━\u001B[0m\u001B[37m\u001B[0m \u001B[1m1s\u001B[0m 298us/step\n",
      "\u001B[1m375/375\u001B[0m \u001B[32m━━━━━━━━━━━━━━━━━━━━\u001B[0m\u001B[37m\u001B[0m \u001B[1m0s\u001B[0m 303us/step\n"
     ]
    }
   ],
   "source": [
    "# perfoming the prediction\n",
    "y_train_pred = model.predict(X_train)\n",
    "y_val_pred = model.predict(X_val)"
   ],
   "metadata": {
    "collapsed": false,
    "ExecuteTime": {
     "end_time": "2024-06-13T20:05:27.770770Z",
     "start_time": "2024-06-13T20:05:26.792579Z"
    }
   },
   "id": "92a293980afa16b1",
   "execution_count": 33
  },
  {
   "cell_type": "code",
   "outputs": [],
   "source": [
    "from sklearn.metrics import recall_score, precision_score, confusion_matrix, roc_curve, auc\n",
    "import matplotlib.pyplot as plt"
   ],
   "metadata": {
    "collapsed": false,
    "ExecuteTime": {
     "end_time": "2024-06-13T20:05:27.773051Z",
     "start_time": "2024-06-13T20:05:27.771321Z"
    }
   },
   "id": "b16d85a695da23a9",
   "execution_count": 34
  },
  {
   "cell_type": "code",
   "outputs": [
    {
     "name": "stdout",
     "output_type": "stream",
     "text": [
      "Trainnig set:\n",
      "Recall for Top tagging: 0.5474\n",
      "Precision for Top tagging: 0.6598\n",
      "Confusion Matrix\n",
      "[[26853  9058]\n",
      " [14525 17564]]\n"
     ]
    }
   ],
   "source": [
    "print(\"Trainnig set:\")\n",
    "print(f\"Recall for Top tagging: {recall_score(y_train[:, 0], y_train_pred[:, 0] >= 0.5):.4f}\")\n",
    "print(f\"Precision for Top tagging: {precision_score(y_train[:, 0], y_train_pred[:, 0] > 0.5):.4f}\")\n",
    "print(\"Confusion Matrix\")\n",
    "print(confusion_matrix(y_train[:, 0], y_train_pred[:, 0] > 0.5, labels=[0, 1]))"
   ],
   "metadata": {
    "collapsed": false,
    "ExecuteTime": {
     "end_time": "2024-06-13T20:05:27.824643Z",
     "start_time": "2024-06-13T20:05:27.773601Z"
    }
   },
   "id": "2475022898ed9ce3",
   "execution_count": 35
  },
  {
   "cell_type": "code",
   "outputs": [
    {
     "name": "stdout",
     "output_type": "stream",
     "text": [
      "Test set:\n",
      "Recall for Top tagging: 0.54\n",
      "Precision for Top tagging: 0.64\n",
      "Confusion Matrix\n",
      "[[4625 1696]\n",
      " [2635 3044]]\n"
     ]
    }
   ],
   "source": [
    "print(\"Test set:\")\n",
    "print(f\"Recall for Top tagging: {recall_score(y_val[:, 0], y_val_pred[:, 0] > 0.5):.2f}\")\n",
    "print(f\"Precision for Top tagging: {precision_score(y_val[:, 0], y_val_pred[:, 0] > 0.5):.2f}\")\n",
    "print(\"Confusion Matrix\")\n",
    "print(confusion_matrix(y_val[:, 0], y_val_pred[:, 0] > 0.5, labels=[0, 1]))"
   ],
   "metadata": {
    "collapsed": false,
    "ExecuteTime": {
     "end_time": "2024-06-13T20:05:27.835758Z",
     "start_time": "2024-06-13T20:05:27.825126Z"
    }
   },
   "id": "d26535eb8950f370",
   "execution_count": 36
  },
  {
   "cell_type": "code",
   "outputs": [
    {
     "data": {
      "text/plain": "<Figure size 640x480 with 1 Axes>",
      "image/png": "[encoded data removed]"
     },
     "metadata": {},
     "output_type": "display_data"
    },
    {
     "name": "stdout",
     "output_type": "stream",
     "text": [
      "AUC: 0.7086\n"
     ]
    }
   ],
   "source": [
    "# roc curve for top tagging \n",
    "fpr, tpr, thresholds = roc_curve(y_train[:, 0], y_train_pred[:, 0])\n",
    "plt.plot(fpr, tpr)\n",
    "plt.xlabel('FPR')\n",
    "plt.ylabel('TPR (Recall)')\n",
    "plt.show()\n",
    "print(f\"AUC: {auc(fpr, tpr):.4f}\")"
   ],
   "metadata": {
    "collapsed": false,
    "ExecuteTime": {
     "end_time": "2024-06-13T20:05:27.886405Z",
     "start_time": "2024-06-13T20:05:27.836259Z"
    }
   },
   "id": "ba9cc2b2b39c9840",
   "execution_count": 37
  }
 ],
 "metadata": {
  "kernelspec": {
   "display_name": "Python 3",
   "language": "python",
   "name": "python3"
  },
  "language_info": {
   "codemirror_mode": {
    "name": "ipython",
    "version": 2
   },
   "file_extension": ".py",
   "mimetype": "text/x-python",
   "name": "python",
   "nbconvert_exporter": "python",
   "pygments_lexer": "ipython2",
   "version": "2.7.6"
  }
 },
 "nbformat": 4,
 "nbformat_minor": 5
}
