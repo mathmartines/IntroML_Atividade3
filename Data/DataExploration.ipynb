{
 "cells": [
  {
   "cell_type": "code",
   "execution_count": 1,
   "id": "initial_id",
   "metadata": {
    "collapsed": true,
    "ExecuteTime": {
     "end_time": "2024-06-14T18:52:21.055419Z",
     "start_time": "2024-06-14T18:52:20.449562Z"
    }
   },
   "outputs": [],
   "source": [
    "import pandas as pd\n",
    "from sklearn.model_selection import train_test_split \n",
    "import matplotlib.pyplot as plt\n",
    "import numpy as np\n",
    "from sklearn.preprocessing import StandardScaler"
   ]
  },
  {
   "cell_type": "code",
   "outputs": [],
   "source": [
    "# reading the data frame \n",
    "higgs_data = pd.read_csv(\"HIGGS_100k.csv\", header=None)\n",
    "# keeping only the 21 low level features + the label\n",
    "# low_level_features = higgs_data.loc[:, 0:21]\n",
    "# separating signal from background\n",
    "# signal = low_level_features[low_level_features[0] == 1].drop(labels=[0], axis=1).to_numpy()\n",
    "# background = low_level_features[low_level_features[0] == 0].drop(labels=[0], axis=1).to_numpy()\n",
    "# print(f\"Signal: {len(signal)}\")\n",
    "# print(f\"Background: {len(backgrou/nd)}\")\n",
    "# higgs_data"
   ],
   "metadata": {
    "collapsed": false,
    "ExecuteTime": {
     "end_time": "2024-06-14T18:54:04.171218Z",
     "start_time": "2024-06-14T18:54:03.779724Z"
    }
   },
   "id": "40c6fd6391da2073",
   "execution_count": 5
  },
  {
   "cell_type": "code",
   "outputs": [
    {
     "data": {
      "text/plain": "             9         13        17        21\n0      0.000000  2.214872  2.548224  0.000000\n1      0.000000  0.000000  2.548224  0.000000\n2      0.000000  2.214872  2.548224  0.000000\n3      2.173076  0.000000  0.000000  3.101961\n4      0.000000  1.107436  2.548224  0.000000\n...         ...       ...       ...       ...\n67995  0.000000  1.107436  2.548224  0.000000\n67996  2.173076  0.000000  0.000000  0.000000\n67997  1.086538  0.000000  0.000000  3.101961\n67998  0.000000  2.214872  0.000000  3.101961\n67999  2.173076  2.214872  0.000000  0.000000\n\n[68000 rows x 4 columns]",
      "text/html": "<div>\n<style scoped>\n    .dataframe tbody tr th:only-of-type {\n        vertical-align: middle;\n    }\n\n    .dataframe tbody tr th {\n        vertical-align: top;\n    }\n\n    .dataframe thead th {\n        text-align: right;\n    }\n</style>\n<table border=\"1\" class=\"dataframe\">\n  <thead>\n    <tr style=\"text-align: right;\">\n      <th></th>\n      <th>9</th>\n      <th>13</th>\n      <th>17</th>\n      <th>21</th>\n    </tr>\n  </thead>\n  <tbody>\n    <tr>\n      <th>0</th>\n      <td>0.000000</td>\n      <td>2.214872</td>\n      <td>2.548224</td>\n      <td>0.000000</td>\n    </tr>\n    <tr>\n      <th>1</th>\n      <td>0.000000</td>\n      <td>0.000000</td>\n      <td>2.548224</td>\n      <td>0.000000</td>\n    </tr>\n    <tr>\n      <th>2</th>\n      <td>0.000000</td>\n      <td>2.214872</td>\n      <td>2.548224</td>\n      <td>0.000000</td>\n    </tr>\n    <tr>\n      <th>3</th>\n      <td>2.173076</td>\n      <td>0.000000</td>\n      <td>0.000000</td>\n      <td>3.101961</td>\n    </tr>\n    <tr>\n      <th>4</th>\n      <td>0.000000</td>\n      <td>1.107436</td>\n      <td>2.548224</td>\n      <td>0.000000</td>\n    </tr>\n    <tr>\n      <th>...</th>\n      <td>...</td>\n      <td>...</td>\n      <td>...</td>\n      <td>...</td>\n    </tr>\n    <tr>\n      <th>67995</th>\n      <td>0.000000</td>\n      <td>1.107436</td>\n      <td>2.548224</td>\n      <td>0.000000</td>\n    </tr>\n    <tr>\n      <th>67996</th>\n      <td>2.173076</td>\n      <td>0.000000</td>\n      <td>0.000000</td>\n      <td>0.000000</td>\n    </tr>\n    <tr>\n      <th>67997</th>\n      <td>1.086538</td>\n      <td>0.000000</td>\n      <td>0.000000</td>\n      <td>3.101961</td>\n    </tr>\n    <tr>\n      <th>67998</th>\n      <td>0.000000</td>\n      <td>2.214872</td>\n      <td>0.000000</td>\n      <td>3.101961</td>\n    </tr>\n    <tr>\n      <th>67999</th>\n      <td>2.173076</td>\n      <td>2.214872</td>\n      <td>0.000000</td>\n      <td>0.000000</td>\n    </tr>\n  </tbody>\n</table>\n<p>68000 rows × 4 columns</p>\n</div>"
     },
     "execution_count": 3,
     "metadata": {},
     "output_type": "execute_result"
    }
   ],
   "source": [
    "higgs_data[[9, 13, 17, 21]]"
   ],
   "metadata": {
    "collapsed": false,
    "ExecuteTime": {
     "end_time": "2024-06-13T19:51:45.439743Z",
     "start_time": "2024-06-13T19:51:45.429555Z"
    }
   },
   "id": "fc5125310362c704",
   "execution_count": 3
  },
  {
   "cell_type": "code",
   "outputs": [
    {
     "name": "stdout",
     "output_type": "stream",
     "text": [
      "1.0094279695153234\n"
     ]
    },
    {
     "data": {
      "text/plain": "<Figure size 640x480 with 1 Axes>",
      "image/png": "[encoded data removed]"
     },
     "metadata": {},
     "output_type": "display_data"
    }
   ],
   "source": [
    "plt.hist(higgs_data[[13]])\n",
    "print(np.mean(higgs_data[[13]]))"
   ],
   "metadata": {
    "collapsed": false,
    "ExecuteTime": {
     "end_time": "2024-06-13T19:44:49.382687Z",
     "start_time": "2024-06-13T19:44:49.322912Z"
    }
   },
   "id": "f0a601f637e35e27",
   "execution_count": 6
  },
  {
   "cell_type": "code",
   "outputs": [
    {
     "name": "stdout",
     "output_type": "stream",
     "text": [
      "0     1.000000\n",
      "1     0.566596\n",
      "2     0.248308\n",
      "3    -1.587147\n",
      "4     1.543663\n",
      "5    -0.617271\n",
      "6     0.736980\n",
      "7     0.034633\n",
      "8     0.780721\n",
      "9     1.086538\n",
      "10    0.860173\n",
      "11   -1.257869\n",
      "12    1.469644\n",
      "13    2.214872\n",
      "14    0.543899\n",
      "15    1.193509\n",
      "16   -0.518320\n",
      "17    0.000000\n",
      "18    0.657443\n",
      "19   -0.423535\n",
      "20   -0.375940\n",
      "21    0.000000\n",
      "22    0.691767\n",
      "23    0.860819\n",
      "24    0.994280\n",
      "25    1.190868\n",
      "26    1.079427\n",
      "27    0.970592\n",
      "28    0.838513\n",
      "Name: 0, dtype: float64\n"
     ]
    }
   ],
   "source": [
    "print(higgs_data.iloc[0])"
   ],
   "metadata": {
    "collapsed": false,
    "ExecuteTime": {
     "end_time": "2024-06-12T18:54:47.355515Z",
     "start_time": "2024-06-12T18:54:47.351829Z"
    }
   },
   "id": "1f98c092fcf956a4",
   "execution_count": 6
  },
  {
   "cell_type": "code",
   "outputs": [],
   "source": [
    "# dividing the data sets into trainning, validation, and test\n",
    "X_train, X_test = train_test_split(higgs_data, test_size=0.2, random_state=0)\n",
    "X_train, X_val = train_test_split(X_train, test_size=0.2, random_state=0)"
   ],
   "metadata": {
    "collapsed": false,
    "ExecuteTime": {
     "end_time": "2024-06-14T18:54:11.858292Z",
     "start_time": "2024-06-14T18:54:11.829984Z"
    }
   },
   "id": "135f70790c2b3e04",
   "execution_count": 6
  },
  {
   "cell_type": "code",
   "outputs": [
    {
     "data": {
      "text/plain": "64000"
     },
     "execution_count": 7,
     "metadata": {},
     "output_type": "execute_result"
    }
   ],
   "source": [
    "X_train.shape[0]"
   ],
   "metadata": {
    "collapsed": false,
    "ExecuteTime": {
     "end_time": "2024-06-14T18:54:12.343971Z",
     "start_time": "2024-06-14T18:54:12.340312Z"
    }
   },
   "id": "56671ef4522810d0",
   "execution_count": 7
  },
  {
   "cell_type": "code",
   "outputs": [
    {
     "data": {
      "text/plain": "16000"
     },
     "execution_count": 8,
     "metadata": {},
     "output_type": "execute_result"
    }
   ],
   "source": [
    "X_val.shape[0]"
   ],
   "metadata": {
    "collapsed": false,
    "ExecuteTime": {
     "end_time": "2024-06-14T18:54:28.290233Z",
     "start_time": "2024-06-14T18:54:28.288207Z"
    }
   },
   "id": "483fae701f2c7c3c",
   "execution_count": 8
  },
  {
   "cell_type": "code",
   "outputs": [],
   "source": [
    "X_train.to_csv(\"HiggsTrainning.csv\", index=False, header=False)\n",
    "X_val.to_csv(\"HiggsValidation.csv\", index=False, header=False)\n",
    "X_test.to_csv(\"HiggsTest.csv\", index=False, header=False)"
   ],
   "metadata": {
    "collapsed": false,
    "ExecuteTime": {
     "end_time": "2024-06-14T18:55:07.324370Z",
     "start_time": "2024-06-14T18:55:05.772390Z"
    }
   },
   "id": "1d09742674e3e178",
   "execution_count": 10
  },
  {
   "cell_type": "code",
   "outputs": [],
   "source": [
    "test = StandardScaler().fit_transform(signal[:, 0].reshape(-1, 1))"
   ],
   "metadata": {
    "collapsed": false,
    "ExecuteTime": {
     "end_time": "2024-06-09T12:29:18.624098Z",
     "start_time": "2024-06-09T12:29:18.620635Z"
    }
   },
   "id": "c461f0dc7f0d53f1",
   "execution_count": 96
  },
  {
   "cell_type": "code",
   "outputs": [
    {
     "data": {
      "text/plain": "<matplotlib.legend.Legend at 0x3545c6090>"
     },
     "execution_count": 97,
     "metadata": {},
     "output_type": "execute_result"
    },
    {
     "data": {
      "text/plain": "<Figure size 640x480 with 1 Axes>",
      "image/png": "[encoded data removed]"
     },
     "metadata": {},
     "output_type": "display_data"
    }
   ],
   "source": [
    "# Histograms\n",
    "feature = 0\n",
    "plt.hist(signal[:, feature], label='Signal', histtype='step', color='red')\n",
    "plt.hist(test, label='Signal', histtype='step', color='blue')\n",
    "plt.hist(background[:, feature], label='Background', histtype='step', color='green')\n",
    "plt.legend(loc='upper right')"
   ],
   "metadata": {
    "collapsed": false,
    "ExecuteTime": {
     "end_time": "2024-06-09T12:29:30.565334Z",
     "start_time": "2024-06-09T12:29:30.501153Z"
    }
   },
   "id": "5d0dd2dbe8133a57",
   "execution_count": 97
  },
  {
   "cell_type": "code",
   "outputs": [
    {
     "data": {
      "text/plain": "array([[0.75420225, 1.37499213, 1.13890433, 0.65792954],\n       [1.09553063, 0.81258118, 0.49999395, 0.39870089],\n       [1.10487461, 0.8517372 , 0.99348992, 1.25695455],\n       ...,\n       [0.50558025, 0.50990915, 0.89268327, 0.53476548],\n       [0.84736675, 0.59464222, 1.1157223 , 1.04470348],\n       [1.12511981, 1.01881111, 1.02158928, 0.95220876]])"
     },
     "execution_count": 80,
     "metadata": {},
     "output_type": "execute_result"
    }
   ],
   "source": [
    "signal[:, [5, 9, 13, 17]]"
   ],
   "metadata": {
    "collapsed": false,
    "ExecuteTime": {
     "end_time": "2024-06-08T22:42:49.217052Z",
     "start_time": "2024-06-08T22:42:49.212004Z"
    }
   },
   "id": "cf60959a20ff64a3",
   "execution_count": 80
  },
  {
   "cell_type": "code",
   "outputs": [
    {
     "data": {
      "text/plain": "array([[1.78606594, 2.42326474, 1.29871976, 0.74531269],\n       [0.84754992, 0.75542098, 0.92166078, 0.65111411],\n       [0.96105134, 0.62095606, 0.9826014 , 1.06466293],\n       ...,\n       [0.55404043, 0.9768852 , 0.85439783, 0.75431877],\n       [1.19116867, 1.15692723, 0.89250761, 1.11358774],\n       [0.52509254, 1.36013544, 2.0278995 , 1.62595987]])"
     },
     "execution_count": 81,
     "metadata": {},
     "output_type": "execute_result"
    }
   ],
   "source": [
    "background[:, [5, 9, 13, 17]]\n"
   ],
   "metadata": {
    "collapsed": false,
    "ExecuteTime": {
     "end_time": "2024-06-08T22:43:54.816122Z",
     "start_time": "2024-06-08T22:43:54.812699Z"
    }
   },
   "id": "734856b59dd5fa41",
   "execution_count": 81
  },
  {
   "cell_type": "code",
   "outputs": [],
   "source": [],
   "metadata": {
    "collapsed": false
   },
   "id": "b3f3e1347b010261"
  }
 ],
 "metadata": {
  "kernelspec": {
   "display_name": "Python 3",
   "language": "python",
   "name": "python3"
  },
  "language_info": {
   "codemirror_mode": {
    "name": "ipython",
    "version": 2
   },
   "file_extension": ".py",
   "mimetype": "text/x-python",
   "name": "python",
   "nbconvert_exporter": "python",
   "pygments_lexer": "ipython2",
   "version": "2.7.6"
  }
 },
 "nbformat": 4,
 "nbformat_minor": 5
}
